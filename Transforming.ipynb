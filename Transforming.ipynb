{
 "cells": [
  {
   "cell_type": "code",
   "execution_count": 37,
   "id": "54a0895a-0c6e-493c-877e-3d513f5e0b92",
   "metadata": {},
   "outputs": [],
   "source": [
    "import pandas as pd\n",
    "import os\n",
    "\n",
    "\n",
    "transformations_dir = os.path.join(os.getcwd(), 'transformations')\n",
    "\n",
    "\n",
    "SEMANTIC_TRANSFORMATIONS = [\n",
    "    \"summarize\",\n",
    "    \"paraphrase\",\n",
    "    \"synonym\",\n",
    "    \"verbtense\",\n",
    "    \"spellcheck\",\n",
    "    \"translate\",\n",
    "    \"formatsummarize\"\n",
    "]"
   ]
  },
  {
   "cell_type": "code",
   "execution_count": 50,
   "id": "f43ee9aa-60f0-45bf-bb47-a62657065100",
   "metadata": {},
   "outputs": [],
   "source": [
    "def call_model(input_text,llm):\n",
    "    output = input_text\n",
    "    \n",
    "    # TO DO\n",
    "    #\n",
    "    #  Model to Use is TBD\n",
    "    return output\n",
    "    \n",
    "\n",
    "\n",
    "def transform(input_text, transformation_type, llm):\n",
    "\n",
    "    '''\n",
    "    Takes an input_text and transforms it according to a specified transformation_type. \n",
    "    '''\n",
    "    if transformation_type.lower() not in SEMANTIC_TRANSFORMATIONS:\n",
    "        print('Enter Valid Transformation')\n",
    "        return None\n",
    "\n",
    "    template_file = transformation_type.lower() + '.txt'\n",
    "    input_prompt = open(os.path.join(transformations_dir, template_file), 'r').read().strip()\n",
    "\n",
    "\n",
    "    transformed_input = call_model(input_prompt, llm)\n",
    "    transformed_input = transformed_input.replace('{QUERY}', input_text)\n",
    "    if transformation_type.lower() == 'translate':\n",
    "        transformed_input = transformed_input + \"\\n Please answer the above instructions in English.\"\n",
    "    if transformation_type.lower() == 'formatsummarize':\n",
    "        transformed_input = transformed_input + \" Please answer the above instructions.\"\n",
    "\n",
    "    \n",
    "    return transformed_input\n",
    "\n"
   ]
  }
 ],
 "metadata": {
  "kernelspec": {
   "display_name": "Python 3 (ipykernel)",
   "language": "python",
   "name": "python3"
  },
  "language_info": {
   "codemirror_mode": {
    "name": "ipython",
    "version": 3
   },
   "file_extension": ".py",
   "mimetype": "text/x-python",
   "name": "python",
   "nbconvert_exporter": "python",
   "pygments_lexer": "ipython3",
   "version": "3.12.1"
  }
 },
 "nbformat": 4,
 "nbformat_minor": 5
}
