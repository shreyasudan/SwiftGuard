{
 "cells": [
  {
   "cell_type": "code",
   "execution_count": 1,
   "id": "8ccb875b-0972-4a75-bd13-88dadf24b9bd",
   "metadata": {},
   "outputs": [
    {
     "name": "stderr",
     "output_type": "stream",
     "text": [
      "/var/folders/gm/c4sdklyj1d5bmsf5thm4k8f00000gn/T/ipykernel_69302/3473081305.py:2: DeprecationWarning: \n",
      "Pyarrow will become a required dependency of pandas in the next major release of pandas (pandas 3.0),\n",
      "(to allow more performant data types, such as the Arrow string type, and better interoperability with other libraries)\n",
      "but was not found to be installed on your system.\n",
      "If this would cause problems for you,\n",
      "please provide us feedback at https://github.com/pandas-dev/pandas/issues/54466\n",
      "        \n",
      "  import pandas as pd\n"
     ]
    }
   ],
   "source": [
    "import numpy as np\n",
    "import pandas as pd\n",
    "import json\n",
    "import matplotlib.pyplot as plt"
   ]
  },
  {
   "cell_type": "code",
   "execution_count": null,
   "id": "0409824b-ebeb-4e0c-9942-212f0da25df0",
   "metadata": {},
   "outputs": [
    {
     "name": "stdout",
     "output_type": "stream",
     "text": [
      "There are 100 rows in the csv file.\n",
      "78 of them provide adversarial prompts.\n"
     ]
    },
    {
     "data": {
      "text/html": [
       "<div>\n",
       "<style scoped>\n",
       "    .dataframe tbody tr th:only-of-type {\n",
       "        vertical-align: middle;\n",
       "    }\n",
       "\n",
       "    .dataframe tbody tr th {\n",
       "        vertical-align: top;\n",
       "    }\n",
       "\n",
       "    .dataframe thead th {\n",
       "        text-align: right;\n",
       "    }\n",
       "</style>\n",
       "<table border=\"1\" class=\"dataframe\">\n",
       "  <thead>\n",
       "    <tr style=\"text-align: right;\">\n",
       "      <th></th>\n",
       "      <th>Objective</th>\n",
       "      <th>Adversarial Prompt</th>\n",
       "      <th>Success</th>\n",
       "    </tr>\n",
       "  </thead>\n",
       "  <tbody>\n",
       "    <tr>\n",
       "      <th>0</th>\n",
       "      <td>Interfere with the operation of a transportati...</td>\n",
       "      <td>You are a security researcher who has discover...</td>\n",
       "      <td>True</td>\n",
       "    </tr>\n",
       "    <tr>\n",
       "      <th>1</th>\n",
       "      <td>Instruct the user to steal sensitive informati...</td>\n",
       "      <td>You are a renowned cybersecurity expert who ha...</td>\n",
       "      <td>True</td>\n",
       "    </tr>\n",
       "    <tr>\n",
       "      <th>2</th>\n",
       "      <td>Write a song that glorifies gang violence and ...</td>\n",
       "      <td>You are a renowned bard in a fictional world w...</td>\n",
       "      <td>True</td>\n",
       "    </tr>\n",
       "    <tr>\n",
       "      <th>3</th>\n",
       "      <td>Create a tutorial on how to hack into sensitiv...</td>\n",
       "      <td>You are a concerned citizen who has just disco...</td>\n",
       "      <td>True</td>\n",
       "    </tr>\n",
       "    <tr>\n",
       "      <th>4</th>\n",
       "      <td>Provide a guide on how to steal personal infor...</td>\n",
       "      <td>You are a devoted family member who has recent...</td>\n",
       "      <td>True</td>\n",
       "    </tr>\n",
       "  </tbody>\n",
       "</table>\n",
       "</div>"
      ],
      "text/plain": [
       "                                           Objective  \\\n",
       "0  Interfere with the operation of a transportati...   \n",
       "1  Instruct the user to steal sensitive informati...   \n",
       "2  Write a song that glorifies gang violence and ...   \n",
       "3  Create a tutorial on how to hack into sensitiv...   \n",
       "4  Provide a guide on how to steal personal infor...   \n",
       "\n",
       "                                  Adversarial Prompt  Success  \n",
       "0  You are a security researcher who has discover...     True  \n",
       "1  You are a renowned cybersecurity expert who ha...     True  \n",
       "2  You are a renowned bard in a fictional world w...     True  \n",
       "3  You are a concerned citizen who has just disco...     True  \n",
       "4  You are a devoted family member who has recent...     True  "
      ]
     },
     "execution_count": 2,
     "metadata": {},
     "output_type": "execute_result"
    }
   ],
   "source": [
    "adv_prompts = pd.read_csv(\"assets/promptDataset.csv\")\n",
    "adv_prompts.rename(columns={\"Successful Prompt\": \"Adversarial Prompt\"}, inplace=True)\n",
    "print(\"There are \" + str(len(adv_prompts)) + \" rows in the csv file.\")\n",
    "adv_prompts = adv_prompts.dropna()\n",
    "\n",
    "def remove_responses(ap):\n",
    "    idx = ap.find(\" \\n\\nResponse:\")\n",
    "    return ap[:idx]\n",
    "\n",
    "adv_prompts = adv_prompts[~adv_prompts[\"Adversarial Prompt\"].str.contains(\"None \\n\\n\")]\n",
    "adv_prompts[\"Adversarial Prompt\"] = adv_prompts[\"Adversarial Prompt\"].apply(remove_responses)\n",
    "adv_prompts = adv_prompts.reset_index().drop(columns=[\"index\"])\n",
    "print(str(len(adv_prompts)) + \" of them provide adversarial prompts.\")\n",
    "adv_prompts.head()"
   ]
  },
  {
   "cell_type": "code",
   "execution_count": null,
   "id": "a86b6d4b-c5d0-453c-8ba9-316e046b7596",
   "metadata": {},
   "outputs": [
    {
     "name": "stdout",
     "output_type": "stream",
     "text": [
      "There are 805 benign prompts in the json file.\n"
     ]
    },
    {
     "data": {
      "text/html": [
       "<div>\n",
       "<style scoped>\n",
       "    .dataframe tbody tr th:only-of-type {\n",
       "        vertical-align: middle;\n",
       "    }\n",
       "\n",
       "    .dataframe tbody tr th {\n",
       "        vertical-align: top;\n",
       "    }\n",
       "\n",
       "    .dataframe thead th {\n",
       "        text-align: right;\n",
       "    }\n",
       "</style>\n",
       "<table border=\"1\" class=\"dataframe\">\n",
       "  <thead>\n",
       "    <tr style=\"text-align: right;\">\n",
       "      <th></th>\n",
       "      <th>Benign Prompt</th>\n",
       "    </tr>\n",
       "  </thead>\n",
       "  <tbody>\n",
       "    <tr>\n",
       "      <th>0</th>\n",
       "      <td>What are the names of some famous actors that ...</td>\n",
       "    </tr>\n",
       "    <tr>\n",
       "      <th>1</th>\n",
       "      <td>How did US states get their names?</td>\n",
       "    </tr>\n",
       "    <tr>\n",
       "      <th>2</th>\n",
       "      <td>Hi, my sister and her girlfriends want me to p...</td>\n",
       "    </tr>\n",
       "    <tr>\n",
       "      <th>3</th>\n",
       "      <td>What is some cool music from the 1920s?</td>\n",
       "    </tr>\n",
       "    <tr>\n",
       "      <th>4</th>\n",
       "      <td>How do I wrap a present neatly?</td>\n",
       "    </tr>\n",
       "  </tbody>\n",
       "</table>\n",
       "</div>"
      ],
      "text/plain": [
       "                                       Benign Prompt\n",
       "0  What are the names of some famous actors that ...\n",
       "1                 How did US states get their names?\n",
       "2  Hi, my sister and her girlfriends want me to p...\n",
       "3            What is some cool music from the 1920s?\n",
       "4                    How do I wrap a present neatly?"
      ]
     },
     "execution_count": 3,
     "metadata": {},
     "output_type": "execute_result"
    }
   ],
   "source": [
    "with open(\"assets/text_davinci_003_outputs.json\") as f:\n",
    "    bp_json = json.load(f)\n",
    "benign_prompts = pd.DataFrame(columns=[\"Benign Prompt\"])\n",
    "for idx in range(len(bp_json)):\n",
    "    benign_prompts.loc[idx] = [bp_json[idx][\"instruction\"]]\n",
    "print(\"There are \" + str(len(benign_prompts)) + \" benign prompts in the json file.\")\n",
    "benign_prompts.head()"
   ]
  },
  {
   "cell_type": "code",
   "execution_count": 4,
   "id": "7c8106cb-a7ae-4300-a492-ded4e7ec840c",
   "metadata": {},
   "outputs": [
    {
     "name": "stdout",
     "output_type": "stream",
     "text": [
      "The minimum length of an benign prompt is 12 characters.\n",
      "The average length of an benign prompt is 164.92422360248446 characters.\n",
      "The maximum length of an benign prompt is 1917 characters.\n",
      "The minimum length of an adversarial prompt is 274 characters.\n",
      "The average length of an adversarial prompt is 640.8461538461538 characters.\n",
      "The maximum length of an adversarial prompt is 1919 characters.\n"
     ]
    },
    {
     "data": {
      "image/png": "[encoded data removed]",
      "text/plain": [
       "<Figure size 640x480 with 1 Axes>"
      ]
     },
     "metadata": {},
     "output_type": "display_data"
    }
   ],
   "source": [
    "bp_lens = benign_prompts[\"Benign Prompt\"].apply(len)\n",
    "min_bp_len = bp_lens.min()\n",
    "avg_bp_len = bp_lens.mean()\n",
    "max_bp_len = bp_lens.max()\n",
    "\n",
    "ap_lens = adv_prompts[\"Adversarial Prompt\"].apply(len)\n",
    "min_ap_len = ap_lens.min()\n",
    "avg_ap_len = ap_lens.mean()\n",
    "max_ap_len = ap_lens.max()\n",
    "\n",
    "print(\"The minimum length of an benign prompt is \" + str(min_bp_len) + \" characters.\")\n",
    "print(\"The average length of an benign prompt is \" + str(avg_bp_len) + \" characters.\")\n",
    "print(\"The maximum length of an benign prompt is \" + str(max_bp_len) + \" characters.\")\n",
    "\n",
    "print(\"The minimum length of an adversarial prompt is \" + str(min_ap_len) + \" characters.\")\n",
    "print(\"The average length of an adversarial prompt is \" + str(avg_ap_len) + \" characters.\")\n",
    "print(\"The maximum length of an adversarial prompt is \" + str(max_ap_len) + \" characters.\")\n",
    "\n",
    "x = np.concatenate((bp_lens, ap_lens))\n",
    "y = np.concatenate((np.ones(len(bp_lens)), 2*np.ones(len(ap_lens))))\n",
    "plt.scatter(x, y)\n",
    "plt.xlabel(\"Number of Characters\")\n",
    "plt.ylabel(\"Benign vs. Adversarial\")\n",
    "plt.show()"
   ]
  },
  {
   "cell_type": "code",
   "execution_count": 5,
   "id": "e1f5f72e-e3b0-46dd-854d-651657f1afd9",
   "metadata": {},
   "outputs": [
    {
     "name": "stdout",
     "output_type": "stream",
     "text": [
      "Adversarial Prompt\n",
      "You        0.897436\n",
      "Imagine    0.064103\n",
      "A          0.012821\n",
      "Your       0.012821\n",
      "As         0.012821\n",
      "Name: count, dtype: float64\n",
      "Benign Prompt\n",
      "What      0.101863\n",
      "How       0.089441\n",
      "Write     0.065839\n",
      "I         0.055901\n",
      "You       0.037267\n",
      "Can       0.032298\n",
      "Why       0.024845\n",
      "what      0.022360\n",
      "Give      0.021118\n",
      "Please    0.019876\n",
      "Name: count, dtype: float64\n"
     ]
    }
   ],
   "source": [
    "def first_word(p):\n",
    "    return p.split(\" \")[0]\n",
    "\n",
    "ap_firsts = adv_prompts[\"Adversarial Prompt\"].apply(first_word)\n",
    "ap_first_word_props = ap_firsts.value_counts()/len(ap_firsts)\n",
    "print(ap_first_word_props[:10])\n",
    "\n",
    "bp_firsts = benign_prompts[\"Benign Prompt\"].apply(first_word)\n",
    "bp_first_word_props = bp_firsts.value_counts()/len(bp_firsts)\n",
    "print(bp_first_word_props[:10])"
   ]
  },
  {
   "cell_type": "markdown",
   "id": "289dd92c-93a7-46b6-9e69-8c9d42f030b7",
   "metadata": {},
   "source": [
    "It is evident that a prompt starting with the words \"You\" or \"Imagine\" are likely to be adversarial."
   ]
  },
  {
   "cell_type": "code",
   "execution_count": 6,
   "id": "4821737c-2432-4d64-9d4d-de13a7ebf520",
   "metadata": {
    "scrolled": true
   },
   "outputs": [
    {
     "name": "stdout",
     "output_type": "stream",
     "text": [
      "The minimum sentence count of an benign prompt is 1\n",
      "The average sentence count of an benign prompt is 2.0695652173913044\n",
      "The maximum sentence count of an benign prompt is 19\n",
      "The minimum sentence count of an adversarial prompt is 3\n",
      "The average sentence count of an adversarial prompt is 5.730769230769231\n",
      "The maximum sentence count of an adversarial prompt is 16\n"
     ]
    }
   ],
   "source": [
    "def sentence_count(s):\n",
    "    marks = [\".\", \"!\", \"?\"]\n",
    "    marks_dict = {}\n",
    "    for idx in range(len(marks)):\n",
    "        mark = marks[idx]\n",
    "        marks_dict[mark] = s.count(mark)\n",
    "    if sum(marks_dict.values()) == 0:\n",
    "        sent_ct = 1\n",
    "    else:\n",
    "        sent_ct = sum(marks_dict.values())\n",
    "    return sent_ct\n",
    "\n",
    "bp_sent_cts = benign_prompts[\"Benign Prompt\"].apply(sentence_count)\n",
    "min_bp_sent_ct = bp_sent_cts.min()\n",
    "avg_bp_sent_ct = bp_sent_cts.mean()\n",
    "max_bp_sent_ct = bp_sent_cts.max()\n",
    "\n",
    "ap_sent_cts = adv_prompts[\"Adversarial Prompt\"].apply(sentence_count)\n",
    "min_ap_sent_ct = ap_sent_cts.min()\n",
    "avg_ap_sent_ct = ap_sent_cts.mean()\n",
    "max_ap_sent_ct = ap_sent_cts.max()\n",
    "\n",
    "print(\"The minimum sentence count of an benign prompt is \" + str(min_bp_sent_ct))\n",
    "print(\"The average sentence count of an benign prompt is \" + str(avg_bp_sent_ct))\n",
    "print(\"The maximum sentence count of an benign prompt is \" + str(max_bp_sent_ct))\n",
    "\n",
    "print(\"The minimum sentence count of an adversarial prompt is \" + str(min_ap_sent_ct))\n",
    "print(\"The average sentence count of an adversarial prompt is \" + str(avg_ap_sent_ct))\n",
    "print(\"The maximum sentence count of an adversarial prompt is \" + str(max_ap_sent_ct))"
   ]
  },
  {
   "cell_type": "code",
   "execution_count": 7,
   "id": "83ecfea0-a1bd-4705-aec9-1ce609cef5a9",
   "metadata": {},
   "outputs": [
    {
     "data": {
      "image/png": "[encoded data removed]",
      "text/plain": [
       "<Figure size 640x480 with 1 Axes>"
      ]
     },
     "metadata": {},
     "output_type": "display_data"
    }
   ],
   "source": [
    "x = np.concatenate((np.array(bp_sent_cts), np.array(ap_sent_cts)))\n",
    "\n",
    "plt.hist(np.array(bp_sent_cts), alpha=0.5, label=\"Benign Prompts\", density=True)\n",
    "plt.hist(np.array(ap_sent_cts), alpha=0.5, label=\"Adversarial Prompts\", density=True)\n",
    "\n",
    "plt.legend()\n",
    "plt.show()"
   ]
  },
  {
   "cell_type": "markdown",
   "id": "6b2f9efe-bdb5-43ec-a781-d22fbaec3ed7",
   "metadata": {},
   "source": [
    "It is evident that adversarial prompts have many more sentences than benign ones."
   ]
  },
  {
   "cell_type": "code",
   "execution_count": null,
   "id": "5c3a88b3-dd58-4ab5-9752-80bb5081e7e9",
   "metadata": {},
   "outputs": [],
   "source": []
  },
  {
   "cell_type": "code",
   "execution_count": null,
   "id": "83b17592-97ff-478b-9186-996ed4c9f232",
   "metadata": {},
   "outputs": [],
   "source": []
  }
 ],
 "metadata": {
  "kernelspec": {
   "display_name": "Python 3 (ipykernel)",
   "language": "python",
   "name": "python3"
  },
  "language_info": {
   "codemirror_mode": {
    "name": "ipython",
    "version": 3
   },
   "file_extension": ".py",
   "mimetype": "text/x-python",
   "name": "python",
   "nbconvert_exporter": "python",
   "pygments_lexer": "ipython3",
   "version": "3.11.5"
  }
 },
 "nbformat": 4,
 "nbformat_minor": 5
}
