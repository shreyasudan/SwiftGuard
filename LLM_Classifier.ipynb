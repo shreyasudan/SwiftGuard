{
 "cells": [
  {
   "cell_type": "code",
   "execution_count": 5,
   "id": "6839c200-fcb5-46f8-bed4-bddf1ca8f147",
   "metadata": {},
   "outputs": [],
   "source": [
    "import pandas as pd \n",
    "import json\n",
    "from openai import OpenAI\n",
    "\n",
    "\n",
    "close_benign = pd.read_csv('assets/close_benign_prompts.csv')\n",
    "prompts = pd.read_csv('assets/promptDataset.csv')\n",
    "\n",
    "with open('assets/text_davinci_003_outputs.json', 'r') as f:\n",
    "    json_data = json.load(f)\n",
    "\n",
    "with open('assets/check_system.txt', 'r') as f:\n",
    "    prompt_check = f.read()\n",
    "benign = pd.DataFrame(json_data)\n",
    "\n",
    "\n",
    "TOGETHER_API_KEY = ...\n",
    "TOGETHER_BASE_URL = \"https://api.together.xyz\"\n",
    "\n",
    "client = OpenAI(\n",
    "    base_url = TOGETHER_BASE_URL,\n",
    "    api_key = TOGETHER_API_KEY,\n",
    ")"
   ]
  },
  {
   "cell_type": "code",
   "execution_count": null,
   "id": "a4e83fa6-0e35-444f-8d1d-166d50466256",
   "metadata": {},
   "outputs": [],
   "source": []
  },
  {
   "cell_type": "code",
   "execution_count": 2,
   "id": "967231cd-1b5f-4dbf-9ee4-c2a9b554533f",
   "metadata": {},
   "outputs": [],
   "source": [
    "def call_model(input_text,llm):\n",
    "    '''\n",
    "    Calls an LLM with a given input text\n",
    "\n",
    "    input_text: a string of text to input in the LLM\n",
    "    llm: a string outlining which llm from together AI to use\n",
    "    '''\n",
    "    response = client.chat.completions.create(\n",
    "        model = llm,\n",
    "        messages = [\n",
    "            {\"role\": \"user\", \"content\": input_text},\n",
    "        ],\n",
    "        max_tokens = 1000,\n",
    "    )\n",
    "    output = response.choices[0].message.content\n",
    "    \n",
    "    return output\n",
    "    \n",
    "\n",
    "\n",
    "\n",
    "\n",
    "def llm_check(llm, series, n):\n",
    "    '''\n",
    "    A preliminary LLM classifer identifying benign prompts\n",
    "\n",
    "    llm: a string outlining which llm from together AI to use\n",
    "    series: a series containing prompts from which to classify\n",
    "    n: the number of prompts to sample from the series and classify\n",
    "\n",
    "    OUTPUT: 'YES' or 'NO' with 'NO' meaning that there is some element of the prompt that could make it harmful\n",
    "             while 'YES' means it is confidentally benign.\n",
    "    '''\n",
    "    results = []\n",
    "    sample = series.sample(n)\n",
    "    for query in sample:\n",
    "        temp_prompt = prompt_check.replace('{QUERY}', query)\n",
    "        out = call_model(temp_prompt, llm)\n",
    "        results.append(out.strip())\n",
    "    return results"
   ]
  },
  {
   "cell_type": "code",
   "execution_count": 3,
   "id": "d677f480-e628-4f06-8df5-8b5ef8047b70",
   "metadata": {},
   "outputs": [],
   "source": [
    "llm = 'Gryphe/MythoMax-L2-13b'\n",
    "\n",
    "benigns = benign['instruction']\n",
    "closes = close_benign['Goal']\n",
    "bad = prompts[prompts['Success']]['Successful Prompt'].apply(lambda x: x.split('Response:')[0].strip())\n",
    "\n"
   ]
  },
  {
   "cell_type": "code",
   "execution_count": 6,
   "id": "199f6c89-f3e5-46a8-b06f-b7a82a2c879b",
   "metadata": {},
   "outputs": [
    {
     "name": "stdout",
     "output_type": "stream",
     "text": [
      "['NO', 'NO', 'NO', 'NO', 'NO']\n"
     ]
    }
   ],
   "source": [
    "print(llm_check(llm, bad, 5))"
   ]
  },
  {
   "cell_type": "code",
   "execution_count": 7,
   "id": "1a472327-4a66-496f-951b-4afe78902a1a",
   "metadata": {},
   "outputs": [
    {
     "name": "stdout",
     "output_type": "stream",
     "text": [
      "['NO', 'YES', 'NO', 'NO', 'YES']\n"
     ]
    }
   ],
   "source": [
    "print(llm_check(llm, closes, 5))"
   ]
  },
  {
   "cell_type": "code",
   "execution_count": 8,
   "id": "2c295c7a-225c-478c-9cfe-a34bf24e486f",
   "metadata": {},
   "outputs": [
    {
     "name": "stdout",
     "output_type": "stream",
     "text": [
      "['YES', 'YES', 'NO', 'NO', 'YES']\n"
     ]
    }
   ],
   "source": [
    "print(llm_check(llm, benigns, 5))"
   ]
  },
  {
   "cell_type": "code",
   "execution_count": null,
   "id": "3ff98a4c-092a-416e-95eb-7092f1fe7f3e",
   "metadata": {},
   "outputs": [],
   "source": []
  }
 ],
 "metadata": {
  "kernelspec": {
   "display_name": "Python 3 (ipykernel)",
   "language": "python",
   "name": "python3"
  },
  "language_info": {
   "codemirror_mode": {
    "name": "ipython",
    "version": 3
   },
   "file_extension": ".py",
   "mimetype": "text/x-python",
   "name": "python",
   "nbconvert_exporter": "python",
   "pygments_lexer": "ipython3",
   "version": "3.12.1"
  }
 },
 "nbformat": 4,
 "nbformat_minor": 5
}
